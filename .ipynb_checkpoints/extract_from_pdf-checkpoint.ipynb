{
 "cells": [
  {
   "cell_type": "code",
   "execution_count": 1,
   "id": "79ef1bdc",
   "metadata": {},
   "outputs": [],
   "source": [
    "from PyPDF2 import PdfReader"
   ]
  },
  {
   "cell_type": "code",
   "execution_count": 2,
   "id": "7ae259dd",
   "metadata": {},
   "outputs": [],
   "source": [
    "topics = [\"History\", \"Examination\", \"ANSWER\", \"Questions\"]"
   ]
  },
  {
   "cell_type": "code",
   "execution_count": 3,
   "id": "3d4c5260",
   "metadata": {},
   "outputs": [
    {
     "ename": "SyntaxError",
     "evalue": "invalid syntax (825256348.py, line 1)",
     "output_type": "error",
     "traceback": [
      "\u001b[0;36m  Cell \u001b[0;32mIn[3], line 1\u001b[0;36m\u001b[0m\n\u001b[0;31m    why u so cute\u001b[0m\n\u001b[0m        ^\u001b[0m\n\u001b[0;31mSyntaxError\u001b[0m\u001b[0;31m:\u001b[0m invalid syntax\n"
     ]
    }
   ],
   "source": [
    "why u so cute"
   ]
  },
  {
   "cell_type": "code",
   "execution_count": 4,
   "id": "4ff35f93",
   "metadata": {},
   "outputs": [],
   "source": [
    "reader = PdfReader(\"./100_Cases_in_Clinical_Medicine.pdf\")"
   ]
  },
  {
   "cell_type": "code",
   "execution_count": 11,
   "id": "80d56091",
   "metadata": {},
   "outputs": [
    {
     "name": "stdout",
     "output_type": "stream",
     "text": [
      "CARDIOLOGYCASE 1: DIZZINESS\n",
      "['A 75-year-old man is brought to hospital with an episode of dizziness. He still feels unwellwhen he is seen 30 min after the onset. He was well until the last 6 months, since whenhe has had some falls, irregularly. On some occasions he lost consciousness and is unsurehow long he has been unconscious. On a few occasions he has fallen, grazing his knees,and on others he has felt dizzy and has had to sit down but has not lost consciousness.These episodes usually happened on exertion, but once or twice they have occurred whilesitting down. He recovers over 10–15 min after each episode.He lives alone and most of the episodes have not been witnessed. Once his granddaughterwas with him when he blacked out. Worried, she called an ambulance. He looked so paleand still that she thought that he had died. He was taken to hospital, by which time he hadrecovered completely and was discharged and told that he had a normal electrocardiogram(ECG) and chest X-ray.There is no history of chest pain or palpitations. He has had gout and some urinary fre-quency. A diagnosis of benign prostatic hypertrophy has been made for which he is on notreatment. He takes ibuprofen occasionally for the gout. He stopped smoking 5 years ago.He drinks 5–10 units of alcohol weekly. The dizziness and blackouts have not been asso-ciated with alcohol. There is no relevant family history. He used to work as an electrician.ExaminationHe is pale with a blood pressure of 96/64 mmHg. The pulse rate is 33/min, regular. Thereare no heart murmurs. The jugular venous pressure is raised 3 cm with occasional rises.There is no leg oedema; the peripheral pulses are palpable except for the left dorsalis pedis.The respiratory system is normal.', '3', '•The patient’s ECG is shown in Fig. 1.1.INVESTIGATIONSaVR V1 V4V2V3 V6V5aVLIIIIIaVFRhythm strip:II25 mm/s; 1 cm/mVFigure 1.1Questions•What is the cause of his blackout?•What does the ECG show?']\n"
     ]
    },
    {
     "ename": "IndexError",
     "evalue": "list index out of range",
     "output_type": "error",
     "traceback": [
      "\u001b[0;31m---------------------------------------------------------------------------\u001b[0m",
      "\u001b[0;31mIndexError\u001b[0m                                Traceback (most recent call last)",
      "Cell \u001b[0;32mIn[11], line 4\u001b[0m\n\u001b[1;32m      2\u001b[0m text \u001b[38;5;241m=\u001b[39m page\u001b[38;5;241m.\u001b[39mextract_text()\n\u001b[1;32m      3\u001b[0m \u001b[38;5;241m*\u001b[39mtopic, text \u001b[38;5;241m=\u001b[39m text\u001b[38;5;241m.\u001b[39msplit(\u001b[38;5;124m\"\u001b[39m\u001b[38;5;124mHistory\u001b[39m\u001b[38;5;124m\"\u001b[39m)\n\u001b[0;32m----> 4\u001b[0m \u001b[38;5;28mprint\u001b[39m(\u001b[43mtopic\u001b[49m\u001b[43m[\u001b[49m\u001b[38;5;241;43m0\u001b[39;49m\u001b[43m]\u001b[49m\u001b[38;5;241m.\u001b[39mstrip())\n\u001b[1;32m      5\u001b[0m paras \u001b[38;5;241m=\u001b[39m text\u001b[38;5;241m.\u001b[39msplit(\u001b[38;5;124m\"\u001b[39m\u001b[38;5;130;01m\\n\u001b[39;00m\u001b[38;5;124m\"\u001b[39m)\n\u001b[1;32m      6\u001b[0m \u001b[38;5;28mprint\u001b[39m(paras)\n",
      "\u001b[0;31mIndexError\u001b[0m: list index out of range"
     ]
    }
   ],
   "source": [
    "for page in reader.pages[14:17]:\n",
    "    text = page.extract_text()\n",
    "    *topic, text = text.split(\"History\")\n",
    "    print(topic[0].strip())\n",
    "    paras = text.split(\"\\n\")\n",
    "    print(paras)"
   ]
  },
  {
   "cell_type": "code",
   "execution_count": 12,
   "id": "4244ec95",
   "metadata": {},
   "outputs": [],
   "source": [
    "a = [5, 2]\n",
    "b, c = a"
   ]
  },
  {
   "cell_type": "code",
   "execution_count": 13,
   "id": "26f395ec",
   "metadata": {},
   "outputs": [
    {
     "data": {
      "text/plain": [
       "5"
      ]
     },
     "execution_count": 13,
     "metadata": {},
     "output_type": "execute_result"
    }
   ],
   "source": [
    "b\n"
   ]
  },
  {
   "cell_type": "code",
   "execution_count": 14,
   "id": "9bce31b4",
   "metadata": {},
   "outputs": [
    {
     "data": {
      "text/plain": [
       "2"
      ]
     },
     "execution_count": 14,
     "metadata": {},
     "output_type": "execute_result"
    }
   ],
   "source": [
    "c"
   ]
  },
  {
   "cell_type": "code",
   "execution_count": 15,
   "id": "a591fd75",
   "metadata": {},
   "outputs": [
    {
     "ename": "ValueError",
     "evalue": "too many values to unpack (expected 2)",
     "output_type": "error",
     "traceback": [
      "\u001b[0;31m---------------------------------------------------------------------------\u001b[0m",
      "\u001b[0;31mValueError\u001b[0m                                Traceback (most recent call last)",
      "Cell \u001b[0;32mIn[15], line 2\u001b[0m\n\u001b[1;32m      1\u001b[0m a \u001b[38;5;241m=\u001b[39m [\u001b[38;5;241m5\u001b[39m, \u001b[38;5;241m2\u001b[39m, \u001b[38;5;241m3\u001b[39m]\n\u001b[0;32m----> 2\u001b[0m b, c \u001b[38;5;241m=\u001b[39m a\n",
      "\u001b[0;31mValueError\u001b[0m: too many values to unpack (expected 2)"
     ]
    }
   ],
   "source": [
    "a = [5, 2, 3]\n",
    "b, c = a"
   ]
  },
  {
   "cell_type": "code",
   "execution_count": 16,
   "id": "8915841f",
   "metadata": {},
   "outputs": [],
   "source": [
    "*b, c = a"
   ]
  },
  {
   "cell_type": "code",
   "execution_count": 17,
   "id": "2f911487",
   "metadata": {},
   "outputs": [
    {
     "data": {
      "text/plain": [
       "[5, 2]"
      ]
     },
     "execution_count": 17,
     "metadata": {},
     "output_type": "execute_result"
    }
   ],
   "source": [
    "b"
   ]
  },
  {
   "cell_type": "code",
   "execution_count": 18,
   "id": "dfed9945",
   "metadata": {},
   "outputs": [
    {
     "data": {
      "text/plain": [
       "3"
      ]
     },
     "execution_count": 18,
     "metadata": {},
     "output_type": "execute_result"
    }
   ],
   "source": [
    "c"
   ]
  },
  {
   "cell_type": "code",
   "execution_count": null,
   "id": "f2dc9eda",
   "metadata": {},
   "outputs": [],
   "source": [
    "a = \"ishar\""
   ]
  }
 ],
 "metadata": {
  "kernelspec": {
   "display_name": "Python 3 (ipykernel)",
   "language": "python",
   "name": "python3"
  },
  "language_info": {
   "codemirror_mode": {
    "name": "ipython",
    "version": 3
   },
   "file_extension": ".py",
   "mimetype": "text/x-python",
   "name": "python",
   "nbconvert_exporter": "python",
   "pygments_lexer": "ipython3",
   "version": "3.10.6"
  }
 },
 "nbformat": 4,
 "nbformat_minor": 5
}
